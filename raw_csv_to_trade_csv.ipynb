{
  "nbformat": 4,
  "nbformat_minor": 0,
  "metadata": {
    "colab": {
      "provenance": [],
      "mount_file_id": "1wKVHjycixsKSjqYHzqoGsBYas0owggO6",
      "authorship_tag": "ABX9TyOw3tlKLF0WYjgAVKlwTPIu",
      "include_colab_link": true
    },
    "kernelspec": {
      "name": "python3",
      "display_name": "Python 3"
    },
    "language_info": {
      "name": "python"
    }
  },
  "cells": [
    {
      "cell_type": "markdown",
      "metadata": {
        "id": "view-in-github",
        "colab_type": "text"
      },
      "source": [
        "<a href=\"https://colab.research.google.com/github/pravincoder/binance_trade_analysis/blob/main/raw_csv_to_trade_csv.ipynb\" target=\"_parent\"><img src=\"https://colab.research.google.com/assets/colab-badge.svg\" alt=\"Open In Colab\"/></a>"
      ]
    },
    {
      "cell_type": "code",
      "execution_count": 19,
      "metadata": {
        "id": "prXB_z0-X-uK"
      },
      "outputs": [],
      "source": [
        "import pandas as pd\n",
        "url = \"https://github.com/pravincoder/binance_trade_analysis/raw/refs/heads/main/TRADES_CopyTr_90D_ROI.csv\"\n",
        "df = pd.read_csv(url)\n",
        "\n"
      ]
    },
    {
      "cell_type": "code",
      "source": [
        "# Lets focus on the trade_hist data in each row\n",
        "df.Trade_History.head(5)"
      ],
      "metadata": {
        "colab": {
          "base_uri": "https://localhost:8080/",
          "height": 238
        },
        "id": "cNXGesQXHJ_D",
        "outputId": "23bea943-ab55-4f45-9aa5-ed21e3320bbb"
      },
      "execution_count": 20,
      "outputs": [
        {
          "output_type": "execute_result",
          "data": {
            "text/plain": [
              "0    [{'time': 1718899656000, 'symbol': 'SOLUSDT', ...\n",
              "1    [{'time': 1718980078000, 'symbol': 'NEARUSDT',...\n",
              "2    [{'time': 1718677164000, 'symbol': 'ETHUSDT', ...\n",
              "3    [{'time': 1718678214000, 'symbol': 'ETHUSDT', ...\n",
              "4    [{'time': 1718979615000, 'symbol': 'ETHUSDT', ...\n",
              "Name: Trade_History, dtype: object"
            ],
            "text/html": [
              "<div>\n",
              "<style scoped>\n",
              "    .dataframe tbody tr th:only-of-type {\n",
              "        vertical-align: middle;\n",
              "    }\n",
              "\n",
              "    .dataframe tbody tr th {\n",
              "        vertical-align: top;\n",
              "    }\n",
              "\n",
              "    .dataframe thead th {\n",
              "        text-align: right;\n",
              "    }\n",
              "</style>\n",
              "<table border=\"1\" class=\"dataframe\">\n",
              "  <thead>\n",
              "    <tr style=\"text-align: right;\">\n",
              "      <th></th>\n",
              "      <th>Trade_History</th>\n",
              "    </tr>\n",
              "  </thead>\n",
              "  <tbody>\n",
              "    <tr>\n",
              "      <th>0</th>\n",
              "      <td>[{'time': 1718899656000, 'symbol': 'SOLUSDT', ...</td>\n",
              "    </tr>\n",
              "    <tr>\n",
              "      <th>1</th>\n",
              "      <td>[{'time': 1718980078000, 'symbol': 'NEARUSDT',...</td>\n",
              "    </tr>\n",
              "    <tr>\n",
              "      <th>2</th>\n",
              "      <td>[{'time': 1718677164000, 'symbol': 'ETHUSDT', ...</td>\n",
              "    </tr>\n",
              "    <tr>\n",
              "      <th>3</th>\n",
              "      <td>[{'time': 1718678214000, 'symbol': 'ETHUSDT', ...</td>\n",
              "    </tr>\n",
              "    <tr>\n",
              "      <th>4</th>\n",
              "      <td>[{'time': 1718979615000, 'symbol': 'ETHUSDT', ...</td>\n",
              "    </tr>\n",
              "  </tbody>\n",
              "</table>\n",
              "</div><br><label><b>dtype:</b> object</label>"
            ]
          },
          "metadata": {},
          "execution_count": 20
        }
      ]
    },
    {
      "cell_type": "code",
      "source": [
        "import ast\n",
        "print(df.info())\n",
        "print(df.head())\n",
        "\n",
        "# Check if Trade_History column contains valid data\n",
        "def parse_trade_history(history):\n",
        "    try:\n",
        "        return ast.literal_eval(history) if isinstance(history, str) else []\n",
        "    except Exception as e:\n",
        "        return []\n",
        "\n",
        "# Apply parsing function\n",
        "df[\"Trade_History\"] = df[\"Trade_History\"].apply(parse_trade_history)\n",
        "\n",
        "# Display parsed data\n",
        "print(\"Sample Trade History:\")\n",
        "print(df[\"Trade_History\"].head())\n"
      ],
      "metadata": {
        "colab": {
          "base_uri": "https://localhost:8080/"
        },
        "id": "TbkRjB4RHnum",
        "outputId": "32f9f5e8-d162-4f1d-b382-8213538c8c4b"
      },
      "execution_count": 21,
      "outputs": [
        {
          "output_type": "stream",
          "name": "stdout",
          "text": [
            "<class 'pandas.core.frame.DataFrame'>\n",
            "RangeIndex: 150 entries, 0 to 149\n",
            "Data columns (total 2 columns):\n",
            " #   Column         Non-Null Count  Dtype \n",
            "---  ------         --------------  ----- \n",
            " 0   Port_IDs       150 non-null    int64 \n",
            " 1   Trade_History  149 non-null    object\n",
            "dtypes: int64(1), object(1)\n",
            "memory usage: 2.5+ KB\n",
            "None\n",
            "              Port_IDs                                      Trade_History\n",
            "0  3925368433214965504  [{'time': 1718899656000, 'symbol': 'SOLUSDT', ...\n",
            "1  4002413037164645377  [{'time': 1718980078000, 'symbol': 'NEARUSDT',...\n",
            "2  3923766029921022977  [{'time': 1718677164000, 'symbol': 'ETHUSDT', ...\n",
            "3  3994879592543698688  [{'time': 1718678214000, 'symbol': 'ETHUSDT', ...\n",
            "4  3926423286576838657  [{'time': 1718979615000, 'symbol': 'ETHUSDT', ...\n",
            "Sample Trade History:\n",
            "0    [{'time': 1718899656000, 'symbol': 'SOLUSDT', ...\n",
            "1    [{'time': 1718980078000, 'symbol': 'NEARUSDT',...\n",
            "2    [{'time': 1718677164000, 'symbol': 'ETHUSDT', ...\n",
            "3    [{'time': 1718678214000, 'symbol': 'ETHUSDT', ...\n",
            "4    [{'time': 1718979615000, 'symbol': 'ETHUSDT', ...\n",
            "Name: Trade_History, dtype: object\n"
          ]
        }
      ]
    },
    {
      "cell_type": "code",
      "source": [
        "# Extract trade details into separate rows\n",
        "trade_data = []\n",
        "for idx, row in df.iterrows():\n",
        "    port_id = row[\"Port_IDs\"]\n",
        "    trade_history = row[\"Trade_History\"]\n",
        "\n",
        "    for trade in trade_history:\n",
        "        trade_data.append({\n",
        "            \"Port_IDs\": port_id,\n",
        "            \"time\": trade.get(\"time\", None),\n",
        "            \"symbol\": trade.get(\"symbol\", None),\n",
        "            \"price\": trade.get(\"price\", None),\n",
        "            \"quantity\": trade.get(\"quantity\", None),\n",
        "            \"trade_type\": trade.get(\"side\", None),  # Assuming 'side' is 'BUY' or 'SELL'\n",
        "            \"Profit/Loss\": trade.get(\"realizedProfit\", None)\n",
        "        })\n",
        "\n",
        "# Convert extracted data into a DataFrame\n",
        "df_trades = pd.DataFrame(trade_data)\n",
        "\n",
        "# Convert timestamp to readable date\n",
        "df_trades[\"time\"] = pd.to_datetime(df_trades[\"time\"], unit=\"ms\")\n",
        "\n",
        "# Display transformed data\n",
        "print(\"Processed Trade Data:\")\n",
        "print(df_trades.head(20))\n",
        "\n"
      ],
      "metadata": {
        "colab": {
          "base_uri": "https://localhost:8080/"
        },
        "id": "NiQOY8frTW1k",
        "outputId": "ab80c81a-fc83-4fd5-8468-747d757014a0"
      },
      "execution_count": 22,
      "outputs": [
        {
          "output_type": "stream",
          "name": "stdout",
          "text": [
            "Processed Trade Data:\n",
            "               Port_IDs                time    symbol      price    quantity  \\\n",
            "0   3925368433214965504 2024-06-20 16:07:36   SOLUSDT  132.53700  1988.05500   \n",
            "1   3925368433214965504 2024-06-20 16:06:58  DOGEUSDT    0.12182  1398.98088   \n",
            "2   3925368433214965504 2024-06-20 16:06:58  DOGEUSDT    0.12182   197.47022   \n",
            "3   3925368433214965504 2024-06-20 16:06:56  DOGEUSDT    0.12182    16.56752   \n",
            "4   3925368433214965504 2024-06-20 16:06:56  DOGEUSDT    0.12182    92.21774   \n",
            "5   3925368433214965504 2024-06-20 16:06:56  DOGEUSDT    0.12182   251.43648   \n",
            "6   3925368433214965504 2024-06-20 16:06:56  DOGEUSDT    0.12182    43.61156   \n",
            "7   3925368433214965504 2024-06-20 16:06:47   SOLUSDT  132.58500   795.51000   \n",
            "8   3925368433214965504 2024-06-20 16:06:47   SOLUSDT  132.58500  1193.26500   \n",
            "9   3925368433214965504 2024-06-20 13:21:24   FILUSDT    4.45400   697.05100   \n",
            "10  3925368433214965504 2024-06-20 13:21:24   FILUSDT    4.45400     6.23560   \n",
            "11  3925368433214965504 2024-06-20 13:21:24   FILUSDT    4.45400   267.24000   \n",
            "12  3925368433214965504 2024-06-20 13:21:24   FILUSDT    4.45400  1029.31940   \n",
            "13  3925368433214965504 2024-06-20 13:19:48   FILUSDT    4.47100   331.30110   \n",
            "14  3925368433214965504 2024-06-20 13:19:48   FILUSDT    4.47100   268.26000   \n",
            "15  3925368433214965504 2024-06-20 13:19:48   FILUSDT    4.47100  1341.30000   \n",
            "16  3925368433214965504 2024-06-20 13:19:48   FILUSDT    4.47100    59.01720   \n",
            "17  3925368433214965504 2024-06-20 09:02:04   ETCUSDT   24.52500    38.50425   \n",
            "18  3925368433214965504 2024-06-20 09:02:04   ETCUSDT   24.52500   200.12400   \n",
            "19  3925368433214965504 2024-06-20 09:02:04   ETCUSDT   24.52500   515.02500   \n",
            "\n",
            "   trade_type  Profit/Loss  \n",
            "0         BUY     0.000000  \n",
            "1         BUY     0.000000  \n",
            "2         BUY     0.000000  \n",
            "3         BUY     0.000000  \n",
            "4         BUY     0.000000  \n",
            "5         BUY     0.000000  \n",
            "6         BUY     0.000000  \n",
            "7         BUY     0.000000  \n",
            "8         BUY     0.000000  \n",
            "9         BUY     0.000000  \n",
            "10        BUY     0.000000  \n",
            "11        BUY     0.000000  \n",
            "12        BUY     0.000000  \n",
            "13        BUY     0.000000  \n",
            "14        BUY     0.000000  \n",
            "15        BUY     0.000000  \n",
            "16        BUY     0.000000  \n",
            "17       SELL     1.332563  \n",
            "18       SELL     6.925932  \n",
            "19       SELL    17.824089  \n"
          ]
        }
      ]
    },
    {
      "cell_type": "code",
      "source": [
        "# Save to CSV for further analysis\n",
        "df_trades.to_csv(\"trades.csv\", index=False)"
      ],
      "metadata": {
        "id": "C5Ecnnw3fI3H"
      },
      "execution_count": null,
      "outputs": []
    }
  ]
}