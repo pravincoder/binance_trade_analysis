{
  "nbformat": 4,
  "nbformat_minor": 0,
  "metadata": {
    "colab": {
      "provenance": [],
      "mount_file_id": "1wKVHjycixsKSjqYHzqoGsBYas0owggO6",
      "authorship_tag": "ABX9TyOrK/6bwJ4oyFbhz8TgHrzT",
      "include_colab_link": true
    },
    "kernelspec": {
      "name": "python3",
      "display_name": "Python 3"
    },
    "language_info": {
      "name": "python"
    }
  },
  "cells": [
    {
      "cell_type": "markdown",
      "metadata": {
        "id": "view-in-github",
        "colab_type": "text"
      },
      "source": [
        "<a href=\"https://colab.research.google.com/github/pravincoder/binance_trade_analysis/blob/main/raw_csv_to_trade_csv.ipynb\" target=\"_parent\"><img src=\"https://colab.research.google.com/assets/colab-badge.svg\" alt=\"Open In Colab\"/></a>"
      ]
    },
    {
      "cell_type": "code",
      "execution_count": 5,
      "metadata": {
        "id": "prXB_z0-X-uK"
      },
      "outputs": [],
      "source": [
        "import pandas as pd\n",
        "url = \"https://github.com/pravincoder/binance_trade_analysis/raw/refs/heads/main/TRADES_CopyTr_90D_ROI.csv\"\n",
        "df = pd.read_csv(url)\n",
        "\n"
      ]
    },
    {
      "cell_type": "code",
      "source": [
        "# Lets focus on the trade_hist data in each row in each account and a single trade param\n",
        "df.Trade_History.head(1).to_list()[0][0]"
      ],
      "metadata": {
        "colab": {
          "base_uri": "https://localhost:8080/"
        },
        "id": "cNXGesQXHJ_D",
        "outputId": "cac8aa71-8dc3-4235-b628-7a3194138983"
      },
      "execution_count": 18,
      "outputs": [
        {
          "output_type": "execute_result",
          "data": {
            "text/plain": [
              "{'time': 1718899656000,\n",
              " 'symbol': 'SOLUSDT',\n",
              " 'side': 'BUY',\n",
              " 'price': 132.537,\n",
              " 'fee': -0.9940275,\n",
              " 'feeAsset': 'USDT',\n",
              " 'quantity': 1988.055,\n",
              " 'quantityAsset': 'USDT',\n",
              " 'realizedProfit': 0.0,\n",
              " 'realizedProfitAsset': 'USDT',\n",
              " 'baseAsset': 'SOL',\n",
              " 'qty': 15.0,\n",
              " 'positionSide': 'LONG',\n",
              " 'activeBuy': True}"
            ]
          },
          "metadata": {},
          "execution_count": 18
        }
      ]
    },
    {
      "cell_type": "code",
      "source": [
        "import ast\n",
        "print(df.info())\n",
        "print(df.head())\n",
        "\n",
        "# Check if Trade_History column contains valid data\n",
        "def parse_trade_history(history):\n",
        "    try:\n",
        "        return ast.literal_eval(history) if isinstance(history, str) else []\n",
        "    except Exception as e:\n",
        "        return []\n",
        "\n",
        "# Apply parsing function\n",
        "df[\"Trade_History\"] = df[\"Trade_History\"].apply(parse_trade_history)\n",
        "\n",
        "# Display parsed data\n",
        "print(\"Sample Trade History:\")\n",
        "print(df[\"Trade_History\"].head())\n"
      ],
      "metadata": {
        "colab": {
          "base_uri": "https://localhost:8080/"
        },
        "id": "TbkRjB4RHnum",
        "outputId": "91191c94-b8df-4383-e4f3-9b4b5ed8a721"
      },
      "execution_count": 7,
      "outputs": [
        {
          "output_type": "stream",
          "name": "stdout",
          "text": [
            "<class 'pandas.core.frame.DataFrame'>\n",
            "RangeIndex: 150 entries, 0 to 149\n",
            "Data columns (total 2 columns):\n",
            " #   Column         Non-Null Count  Dtype \n",
            "---  ------         --------------  ----- \n",
            " 0   Port_IDs       150 non-null    int64 \n",
            " 1   Trade_History  149 non-null    object\n",
            "dtypes: int64(1), object(1)\n",
            "memory usage: 2.5+ KB\n",
            "None\n",
            "              Port_IDs                                      Trade_History\n",
            "0  3925368433214965504  [{'time': 1718899656000, 'symbol': 'SOLUSDT', ...\n",
            "1  4002413037164645377  [{'time': 1718980078000, 'symbol': 'NEARUSDT',...\n",
            "2  3923766029921022977  [{'time': 1718677164000, 'symbol': 'ETHUSDT', ...\n",
            "3  3994879592543698688  [{'time': 1718678214000, 'symbol': 'ETHUSDT', ...\n",
            "4  3926423286576838657  [{'time': 1718979615000, 'symbol': 'ETHUSDT', ...\n",
            "Sample Trade History:\n",
            "0    [{'time': 1718899656000, 'symbol': 'SOLUSDT', ...\n",
            "1    [{'time': 1718980078000, 'symbol': 'NEARUSDT',...\n",
            "2    [{'time': 1718677164000, 'symbol': 'ETHUSDT', ...\n",
            "3    [{'time': 1718678214000, 'symbol': 'ETHUSDT', ...\n",
            "4    [{'time': 1718979615000, 'symbol': 'ETHUSDT', ...\n",
            "Name: Trade_History, dtype: object\n"
          ]
        }
      ]
    },
    {
      "cell_type": "code",
      "source": [
        "# Extract trade details into separate rows\n",
        "trade_data = []\n",
        "for idx, row in df.iterrows():\n",
        "    port_id = row[\"Port_IDs\"]\n",
        "    trade_history = row[\"Trade_History\"]\n",
        "\n",
        "    for trade in trade_history:\n",
        "        trade_data.append({\n",
        "            \"Port_IDs\": port_id,\n",
        "            \"time\": trade.get(\"time\", None),\n",
        "            \"symbol\": trade.get(\"symbol\", None),\n",
        "            \"price\": trade.get(\"price\", None),\n",
        "            \"quantity\": trade.get(\"quantity\", None),\n",
        "            \"trade_type\": trade.get(\"side\", None),  # Assuming 'side' is 'BUY' or 'SELL'\n",
        "            \"Profit/Loss\": trade.get(\"realizedProfit\", None)\n",
        "        })\n",
        "\n",
        "# Convert extracted data into a DataFrame\n",
        "df_trades = pd.DataFrame(trade_data)\n",
        "\n",
        "# Convert timestamp to readable date\n",
        "df_trades[\"time\"] = pd.to_datetime(df_trades[\"time\"], unit=\"ms\")\n",
        "\n",
        "# Display transformed data\n",
        "print(\"Processed Trade Data:\")\n",
        "print(df_trades.head(20))\n",
        "\n"
      ],
      "metadata": {
        "colab": {
          "base_uri": "https://localhost:8080/"
        },
        "id": "NiQOY8frTW1k",
        "outputId": "ec383e58-4363-42ce-dbee-51a171f729e1"
      },
      "execution_count": 8,
      "outputs": [
        {
          "output_type": "stream",
          "name": "stdout",
          "text": [
            "Processed Trade Data:\n",
            "               Port_IDs                time    symbol      price    quantity  \\\n",
            "0   3925368433214965504 2024-06-20 16:07:36   SOLUSDT  132.53700  1988.05500   \n",
            "1   3925368433214965504 2024-06-20 16:06:58  DOGEUSDT    0.12182  1398.98088   \n",
            "2   3925368433214965504 2024-06-20 16:06:58  DOGEUSDT    0.12182   197.47022   \n",
            "3   3925368433214965504 2024-06-20 16:06:56  DOGEUSDT    0.12182    16.56752   \n",
            "4   3925368433214965504 2024-06-20 16:06:56  DOGEUSDT    0.12182    92.21774   \n",
            "5   3925368433214965504 2024-06-20 16:06:56  DOGEUSDT    0.12182   251.43648   \n",
            "6   3925368433214965504 2024-06-20 16:06:56  DOGEUSDT    0.12182    43.61156   \n",
            "7   3925368433214965504 2024-06-20 16:06:47   SOLUSDT  132.58500   795.51000   \n",
            "8   3925368433214965504 2024-06-20 16:06:47   SOLUSDT  132.58500  1193.26500   \n",
            "9   3925368433214965504 2024-06-20 13:21:24   FILUSDT    4.45400   697.05100   \n",
            "10  3925368433214965504 2024-06-20 13:21:24   FILUSDT    4.45400     6.23560   \n",
            "11  3925368433214965504 2024-06-20 13:21:24   FILUSDT    4.45400   267.24000   \n",
            "12  3925368433214965504 2024-06-20 13:21:24   FILUSDT    4.45400  1029.31940   \n",
            "13  3925368433214965504 2024-06-20 13:19:48   FILUSDT    4.47100   331.30110   \n",
            "14  3925368433214965504 2024-06-20 13:19:48   FILUSDT    4.47100   268.26000   \n",
            "15  3925368433214965504 2024-06-20 13:19:48   FILUSDT    4.47100  1341.30000   \n",
            "16  3925368433214965504 2024-06-20 13:19:48   FILUSDT    4.47100    59.01720   \n",
            "17  3925368433214965504 2024-06-20 09:02:04   ETCUSDT   24.52500    38.50425   \n",
            "18  3925368433214965504 2024-06-20 09:02:04   ETCUSDT   24.52500   200.12400   \n",
            "19  3925368433214965504 2024-06-20 09:02:04   ETCUSDT   24.52500   515.02500   \n",
            "\n",
            "   trade_type  Profit/Loss  \n",
            "0         BUY     0.000000  \n",
            "1         BUY     0.000000  \n",
            "2         BUY     0.000000  \n",
            "3         BUY     0.000000  \n",
            "4         BUY     0.000000  \n",
            "5         BUY     0.000000  \n",
            "6         BUY     0.000000  \n",
            "7         BUY     0.000000  \n",
            "8         BUY     0.000000  \n",
            "9         BUY     0.000000  \n",
            "10        BUY     0.000000  \n",
            "11        BUY     0.000000  \n",
            "12        BUY     0.000000  \n",
            "13        BUY     0.000000  \n",
            "14        BUY     0.000000  \n",
            "15        BUY     0.000000  \n",
            "16        BUY     0.000000  \n",
            "17       SELL     1.332563  \n",
            "18       SELL     6.925932  \n",
            "19       SELL    17.824089  \n"
          ]
        }
      ]
    },
    {
      "cell_type": "code",
      "source": [
        "# Save to CSV for further analysis\n",
        "#df_trades.to_csv(\"trades.csv\", index=False)"
      ],
      "metadata": {
        "id": "C5Ecnnw3fI3H"
      },
      "execution_count": 9,
      "outputs": []
    },
    {
      "cell_type": "code",
      "source": [
        "\n",
        "\n",
        "# Handle missing values\n",
        "df_trades.fillna(0, inplace=True)\n",
        "\n",
        "# Calculate financial metrics\n",
        "def calculate_metrics(group):\n",
        "    total_positions = len(group)\n",
        "    win_positions = (group[\"Profit/Loss\"] > 0).sum()\n",
        "    total_profit = group[\"Profit/Loss\"].sum()\n",
        "    total_investment = group[\"quantity\"].sum()\n",
        "    win_rate = win_positions / total_positions if total_positions > 0 else 0\n",
        "    roi = (total_profit / total_investment) if total_investment > 0 else 0\n",
        "\n",
        "    # Sharpe Ratio Calculation\n",
        "    if len(group) > 1:\n",
        "        returns = group[\"Profit/Loss\"].pct_change().dropna()\n",
        "        sharpe_ratio = returns.mean() / returns.std() if returns.std() > 0 else 0\n",
        "    else:\n",
        "        sharpe_ratio = 0\n",
        "\n",
        "    # Maximum Drawdown (MDD) Calculation\n",
        "    cumulative_profit = group[\"Profit/Loss\"].cumsum()\n",
        "    running_max = cumulative_profit.cummax()\n",
        "    drawdown = cumulative_profit - running_max\n",
        "    max_drawdown = drawdown.min()\n",
        "\n",
        "    return pd.Series([total_positions, win_positions, win_rate, total_profit, roi, sharpe_ratio, max_drawdown],\n",
        "                     index=[\"Total_Positions\", \"Win_Positions\", \"Win_Rate\", \"PnL\", \"ROI\", \"Sharpe_Ratio\", \"MDD\"])\n",
        "\n",
        "# Group by Port_IDs and calculate metrics\n",
        "df_metrics = df_trades.groupby(\"Port_IDs\").apply(calculate_metrics).reset_index()\n",
        "\n",
        "# Ranking Algorithm\n",
        "# Score = (ROI * 0.4) + (PnL * 0.3) + (Sharpe Ratio * 0.2) + (Win Rate * 0.1)\n",
        "df_metrics[\"Score\"] = (df_metrics[\"ROI\"] * 0.4) + (df_metrics[\"PnL\"] * 0.3) + \\\n",
        "                        (df_metrics[\"Sharpe_Ratio\"] * 0.2) + (df_metrics[\"Win_Rate\"] * 0.1)\n",
        "\n",
        "df_ranked = df_metrics.sort_values(by=\"Score\", ascending=False).head(20)\n",
        "\n",
        "# Save results\n",
        "df_metrics.to_csv(\"calculated_metrics.csv\", index=False)\n",
        "df_ranked.to_csv(\"top_20_accounts.csv\", index=False)\n",
        "\n",
        "# Generate a basic report\n",
        "report = f\"\"\"Binance Trade Analysis Report\n",
        "===================================\n",
        "\n",
        "Total Accounts Analyzed: {len(df_metrics)}\n",
        "Top 20 Accounts saved in 'top_20_accounts.csv'\n",
        "\n",
        "Metrics Calculated:\n",
        "- ROI (Return on Investment)\n",
        "- PnL (Profit and Loss)\n",
        "- Sharpe Ratio (Risk-adjusted return)\n",
        "- Maximum Drawdown (MDD)\n",
        "- Win Rate\n",
        "- Win Positions\n",
        "- Total Positions\n",
        "\n",
        "Ranking based on weighted score:\n",
        "- ROI: 40%\n",
        "- PnL: 30%\n",
        "- Sharpe Ratio: 20%\n",
        "- Win Rate: 10%\n",
        "\n",
        "\n",
        "Top 10 Accounts based on Score:\n",
        "{df_ranked[[\"Port_IDs\",\"ROI\",\"PnL\", \"Score\"]].head(10)}\n",
        "\"\"\"\n",
        "\n",
        "# print analysis report\n",
        "print(report)\n"
      ],
      "metadata": {
        "colab": {
          "base_uri": "https://localhost:8080/"
        },
        "id": "Bk91i0V8APR7",
        "outputId": "0840b753-9165-40ed-b3d8-430a3031e432"
      },
      "execution_count": 16,
      "outputs": [
        {
          "output_type": "stream",
          "name": "stdout",
          "text": [
            "Binance Trade Analysis Report\n",
            "===================================\n",
            "\n",
            "Total Accounts Analyzed: 149\n",
            "Top 20 Accounts saved in 'top_20_accounts.csv'\n",
            "\n",
            "Metrics Calculated:\n",
            "- ROI (Return on Investment)\n",
            "- PnL (Profit and Loss)\n",
            "- Sharpe Ratio (Risk-adjusted return)\n",
            "- Maximum Drawdown (MDD)\n",
            "- Win Rate\n",
            "- Win Positions\n",
            "- Total Positions\n",
            "\n",
            "Ranking based on weighted score:\n",
            "- ROI: 40%\n",
            "- PnL: 30%\n",
            "- Sharpe Ratio: 20%\n",
            "- Win Rate: 10%\n",
            "\n",
            "\n",
            "Top 10 Accounts based on Score:\n",
            "                Port_IDs       ROI           PnL         Score  Sharpe_Ratio  \\\n",
            "96   4020204877254599680  0.003116  71998.855953  21599.690974           0.0   \n",
            "75   3999240873283311617  0.005437  42574.473679  12772.396600           0.0   \n",
            "98   4021669203289716224  0.004044  26427.331592   7928.232486           0.0   \n",
            "50   3960874214179953664  0.002333  19567.471286   5870.293887           0.0   \n",
            "17   3907081197088384000  0.010992  18015.997370   5404.865005           0.0   \n",
            "107  4028701921959171840  0.004065  17601.401398   5280.476339           0.0   \n",
            "48   3956076827719377409  0.010322  16790.012238   5037.059358           0.0   \n",
            "62   3986814617275053313  0.008716  16337.461881   4901.320272           0.0   \n",
            "99   4022565861939831809  0.002331  14197.577076   4259.326821           0.0   \n",
            "5    3788465932399412480  0.008368  13960.966457   4188.337892           0.0   \n",
            "\n",
            "              MDD  \n",
            "96  -21338.051188  \n",
            "75    -300.813848  \n",
            "98   -2537.866629  \n",
            "50   -2234.000000  \n",
            "17   -2060.707122  \n",
            "107   -585.677600  \n",
            "48    -635.050015  \n",
            "62      -2.381947  \n",
            "99    -385.075554  \n",
            "5    -1772.219440  \n",
            "\n"
          ]
        },
        {
          "output_type": "stream",
          "name": "stderr",
          "text": [
            "<ipython-input-16-b8c4a7563de5>:30: DeprecationWarning: DataFrameGroupBy.apply operated on the grouping columns. This behavior is deprecated, and in a future version of pandas the grouping columns will be excluded from the operation. Either pass `include_groups=False` to exclude the groupings or explicitly select the grouping columns after groupby to silence this warning.\n",
            "  df_metrics = df_trades.groupby(\"Port_IDs\").apply(calculate_metrics).reset_index()\n"
          ]
        }
      ]
    }
  ]
}